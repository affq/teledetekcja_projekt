{
 "cells": [
  {
   "cell_type": "code",
   "execution_count": 6,
   "metadata": {},
   "outputs": [
    {
     "ename": "ModuleNotFoundError",
     "evalue": "No module named 'geopandas'",
     "output_type": "error",
     "traceback": [
      "\u001b[1;31m---------------------------------------------------------------------------\u001b[0m",
      "\u001b[1;31mModuleNotFoundError\u001b[0m                       Traceback (most recent call last)",
      "Cell \u001b[1;32mIn[6], line 4\u001b[0m\n\u001b[0;32m      2\u001b[0m \u001b[38;5;28;01mimport\u001b[39;00m \u001b[38;5;21;01mmatplotlib\u001b[39;00m\u001b[38;5;21;01m.\u001b[39;00m\u001b[38;5;21;01mpyplot\u001b[39;00m \u001b[38;5;28;01mas\u001b[39;00m \u001b[38;5;21;01mplt\u001b[39;00m\n\u001b[0;32m      3\u001b[0m \u001b[38;5;28;01mimport\u001b[39;00m \u001b[38;5;21;01mnumpy\u001b[39;00m \u001b[38;5;28;01mas\u001b[39;00m \u001b[38;5;21;01mnp\u001b[39;00m\n\u001b[1;32m----> 4\u001b[0m \u001b[38;5;28;01mfrom\u001b[39;00m \u001b[38;5;21;01mfuncs\u001b[39;00m \u001b[38;5;28;01mimport\u001b[39;00m read_spatial_raster\n\u001b[0;32m      6\u001b[0m raster_file \u001b[38;5;241m=\u001b[39m \u001b[38;5;124mr\u001b[39m\u001b[38;5;124m\"\u001b[39m\u001b[38;5;124mgrupa_4.tif\u001b[39m\u001b[38;5;124m\"\u001b[39m\n\u001b[0;32m      7\u001b[0m raster_dataset \u001b[38;5;241m=\u001b[39m read_spatial_raster(raster_file)\n",
      "File \u001b[1;32mc:\\Users\\adria\\OneDrive\\Pulpit\\studia_foldery\\teledetekcja_projekt\\src\\funcs.py:7\u001b[0m\n\u001b[0;32m      5\u001b[0m \u001b[38;5;28;01mimport\u001b[39;00m \u001b[38;5;21;01mshapely\u001b[39;00m\n\u001b[0;32m      6\u001b[0m \u001b[38;5;28;01mimport\u001b[39;00m \u001b[38;5;21;01mnumpy\u001b[39;00m \u001b[38;5;28;01mas\u001b[39;00m \u001b[38;5;21;01mnp\u001b[39;00m\n\u001b[1;32m----> 7\u001b[0m \u001b[38;5;28;01mimport\u001b[39;00m \u001b[38;5;21;01mgeopandas\u001b[39;00m \u001b[38;5;28;01mas\u001b[39;00m \u001b[38;5;21;01mgpd\u001b[39;00m\n\u001b[0;32m      8\u001b[0m \u001b[38;5;28;01mimport\u001b[39;00m \u001b[38;5;21;01mmatplotlib\u001b[39;00m\u001b[38;5;21;01m.\u001b[39;00m\u001b[38;5;21;01mpyplot\u001b[39;00m \u001b[38;5;28;01mas\u001b[39;00m \u001b[38;5;21;01mplt\u001b[39;00m\n\u001b[0;32m     10\u001b[0m \u001b[38;5;28;01mdef\u001b[39;00m \u001b[38;5;21mshow_grayscale_matplotlib\u001b[39m(array: np\u001b[38;5;241m.\u001b[39mndarray):  \n",
      "\u001b[1;31mModuleNotFoundError\u001b[0m: No module named 'geopandas'"
     ]
    }
   ],
   "source": [
    "import arcpy\n",
    "import matplotlib.pyplot as plt\n",
    "import numpy as np\n",
    "from funcs import read_spatial_raster\n",
    "\n",
    "raster_file = r\"grupa_4.tif\"\n",
    "raster_dataset = read_spatial_raster(raster_file)"
   ]
  },
  {
   "cell_type": "code",
   "execution_count": null,
   "metadata": {},
   "outputs": [],
   "source": [
    "coastal_blue = raster_dataset.GetRasterBand(1)\n",
    "coastal_blue_array = coastal_blue.ReadAsArray()\n",
    "coastal_blue_array = np.copy(coastal_blue)\n",
    "\n",
    "blue = raster_dataset.GetRasterBand(2)\n",
    "blue_array = blue.ReadAsArray()\n",
    "blue_array = np.copy(blue)\n",
    "\n",
    "green_i = raster_dataset.GetRasterBand(3)\n",
    "green_i_array = green_i.ReadAsArray()\n",
    "green_i_array = np.copy(green_i)\n",
    "\n",
    "green = raster_dataset.GetRasterBand(4)\n",
    "green_array = green.ReadAsArray()\n",
    "green_array = np.copy(green)\n",
    "\n",
    "yellow = raster_dataset.GetRasterBand(5)\n",
    "yellow_array = yellow.ReadAsArray()\n",
    "yellow_array = np.copy(yellow)\n",
    "\n",
    "red = raster_dataset.GetRasterBand(6)\n",
    "red_array = red.ReadAsArray()\n",
    "red_array = np.copy(red)\n",
    "\n",
    "rededge = raster_dataset.GetRasterBand(7)\n",
    "rededge_array = rededge.ReadAsArray()\n",
    "rededge_array = np.copy(rededge)\n",
    "\n",
    "nir = raster_dataset.GetRasterBand(8)\n",
    "nir_array = nir.ReadAsArray()\n",
    "nir_array = np.copy(nir)"
   ]
  }
 ],
 "metadata": {
  "kernelspec": {
   "display_name": "arcpy-teledetekcja",
   "language": "python",
   "name": "python3"
  },
  "language_info": {
   "codemirror_mode": {
    "name": "ipython",
    "version": 3
   },
   "file_extension": ".py",
   "mimetype": "text/x-python",
   "name": "python",
   "nbconvert_exporter": "python",
   "pygments_lexer": "ipython3",
   "version": "3.9.16"
  }
 },
 "nbformat": 4,
 "nbformat_minor": 2
}
